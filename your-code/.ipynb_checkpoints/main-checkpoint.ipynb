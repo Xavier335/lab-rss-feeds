{
 "cells": [
  {
   "cell_type": "markdown",
   "metadata": {},
   "source": [
    "# Working with RSS Feeds Lab\n",
    "\n",
    "Complete the following set of exercises to solidify your knowledge of parsing RSS feeds and extracting information from them."
   ]
  },
  {
   "cell_type": "code",
   "execution_count": 4,
   "metadata": {},
   "outputs": [],
   "source": [
    "import feedparser"
   ]
  },
  {
   "cell_type": "markdown",
   "metadata": {},
   "source": [
    "### 1. Use feedparser to parse the following RSS feed URL."
   ]
  },
  {
   "cell_type": "code",
   "execution_count": 5,
   "metadata": {},
   "outputs": [],
   "source": [
    "url = 'http://feeds.feedburner.com/oreilly/radar/atom'"
   ]
  },
  {
   "cell_type": "code",
   "execution_count": 56,
   "metadata": {},
   "outputs": [],
   "source": [
    "f = feedparser.parse(url)"
   ]
  },
  {
   "cell_type": "markdown",
   "metadata": {},
   "source": [
    "### 2. Obtain a list of components (keys) that are available for this feed."
   ]
  },
  {
   "cell_type": "code",
   "execution_count": 70,
   "metadata": {},
   "outputs": [
    {
     "data": {
      "text/plain": [
       "dict_keys(['bozo', 'entries', 'feed', 'headers', 'etag', 'updated', 'updated_parsed', 'href', 'status', 'encoding', 'version', 'namespaces'])"
      ]
     },
     "execution_count": 70,
     "metadata": {},
     "output_type": "execute_result"
    }
   ],
   "source": [
    "f.keys()"
   ]
  },
  {
   "cell_type": "markdown",
   "metadata": {},
   "source": [
    "### 3. Obtain a list of components (keys) that are available for the *feed* component of this RSS feed."
   ]
  },
  {
   "cell_type": "code",
   "execution_count": null,
   "metadata": {},
   "outputs": [],
   "source": [
    "#I don't understand the difference with the previous question."
   ]
  },
  {
   "cell_type": "markdown",
   "metadata": {},
   "source": [
    "### 4. Extract and print the feed title, subtitle, author, and link."
   ]
  },
  {
   "cell_type": "code",
   "execution_count": 60,
   "metadata": {},
   "outputs": [
    {
     "name": "stdout",
     "output_type": "stream",
     "text": [
      "The End of Silicon Valley as We Know It?\n",
      "High-profile entrepreneurs like Elon Musk, venture capitalists like Peter Thiel and Keith Rabois, and big companies like Oracle and HP Enterprise are all leaving California. During COVID-19, Zoom-enabled tech workers have discovered the benefits of remote work from cheaper, less congested communities elsewhere. Is this the end of Silicon Valley as we know it? Perhaps. [&#8230;]\n",
      "Tim O’Reilly\n",
      "https://www.oreilly.com/radar/the-end-of-silicon-valley-as-we-know-it/\n"
     ]
    }
   ],
   "source": [
    "print(entry.title)\n",
    "print(entry.summary)\n",
    "print(entry.author)\n",
    "print(entry.feedburner_origlink)"
   ]
  },
  {
   "cell_type": "markdown",
   "metadata": {},
   "source": [
    "### 5. Count the number of entries that are contained in this RSS feed."
   ]
  },
  {
   "cell_type": "code",
   "execution_count": 73,
   "metadata": {},
   "outputs": [
    {
     "name": "stdout",
     "output_type": "stream",
     "text": [
      "There are currently 12 entries in this feed.\n"
     ]
    }
   ],
   "source": [
    "print('There are currently', len(f), 'entries in this feed.')"
   ]
  },
  {
   "cell_type": "markdown",
   "metadata": {},
   "source": [
    "### 6. Obtain a list of components (keys) available for an entry.\n",
    "\n",
    "*Hint: Remember to index first before requesting the keys*"
   ]
  },
  {
   "cell_type": "code",
   "execution_count": null,
   "metadata": {
    "collapsed": true
   },
   "outputs": [],
   "source": [
    "entry = f.entries[0]\n",
    "entry.keys()"
   ]
  },
  {
   "cell_type": "markdown",
   "metadata": {},
   "source": [
    "### 7. Extract a list of entry titles."
   ]
  },
  {
   "cell_type": "code",
   "execution_count": 80,
   "metadata": {
    "scrolled": true
   },
   "outputs": [
    {
     "name": "stdout",
     "output_type": "stream",
     "text": [
      "The End of Silicon Valley as We Know It?\n",
      "The Next Generation of AI\n",
      "Radar trends to watch: March 2021\n",
      "Product Management for AI\n",
      "5 things on our data and AI radar for 2021\n",
      "5 infrastructure and operations trends to watch in 2021\n",
      "The Wrong Question\n",
      "Radar trends to watch: February 2021\n",
      "Where Programming, Ops, AI, and the Cloud are Headed in 2021\n",
      "Seven Legal Questions for Data Scientists\n",
      "Patterns\n",
      "Radar trends to watch: January 2021\n",
      "Four short links: 14 Dec 2020\n",
      "Four short links: 8 Dec 2020\n",
      "O’Reilly’s top 20 live online training courses of 2020\n",
      "What is functional programming?\n",
      "Four short links: 4 Dec 2020\n",
      "Four short links: 1 Dec 2020\n",
      "Radar trends to watch: December 2020\n",
      "Four short links: 27 Nov 2020\n",
      "Four short links: 24 Nov 2020\n",
      "Four short links: 20 Nov 2020\n",
      "On Exactitude in Technical Debt\n",
      "Four short links: 17 Nov 2020\n",
      "Four short links: 13 Nov 2020\n",
      "Multi-Paradigm Languages\n",
      "Four short links: 10 November 2020\n",
      "Four short links: 6 Nov 2020\n",
      "Four short links: 4 Nov 2020\n",
      "Radar trends to watch: November 2020\n",
      "Four short links: 30 Oct 2020\n",
      "Four short links: 28 Oct 2020\n",
      "Our Favorite Questions\n",
      "Four short links: 21 Oct 2020\n",
      "Four Short Links: 16 October 2020\n",
      "Four short links: 14 Oct 2020\n",
      "AI Product Management After Deployment\n",
      "Four short links: 9 October 2020\n",
      "AI and Creativity\n",
      "Four short links: 6 October 2020\n",
      "Four short links: 2 October 2020\n",
      "Radar trends to watch: October 2020\n",
      "Four short links: 29 Sep 2020\n",
      "Four short links: 25 September 2020\n",
      "Four short links: 18 Sep 2020\n",
      "Four short links: 16 Sep 2020\n",
      "How to Set AI Goals\n",
      "Four short links: 11 Sep 2020\n",
      "Four short links: 9 Sep 2020\n",
      "Pair Programming with AI\n",
      "Four short links: 4 September 2020\n",
      "Four short links: 2 September 2020\n",
      "Radar trends to watch: September 2020\n",
      "Four short links: 28 August 2020\n",
      "An Agent of Change\n",
      "Four short links: 25 August 2020\n",
      "Four short links: 21 August 2020\n",
      "Four Short Links: 19 August 2020\n",
      "Why Best-of-Breed is a Better Choice than All-in-One Platforms for Data Science\n",
      "Four short links: 14 August 2020\n"
     ]
    }
   ],
   "source": [
    "for i in f['entries']:\n",
    "    print(i['title'])"
   ]
  },
  {
   "cell_type": "markdown",
   "metadata": {},
   "source": [
    "### 8. Calculate the percentage of \"Four short links\" entry titles."
   ]
  },
  {
   "cell_type": "code",
   "execution_count": 86,
   "metadata": {},
   "outputs": [
    {
     "name": "stdout",
     "output_type": "stream",
     "text": [
      "\n",
      "The 'Four short links' entries account for 51.66666666666667 % of the entries.\n"
     ]
    }
   ],
   "source": [
    "four_count = 0\n",
    "\n",
    "for i in f['entries']:\n",
    "    if 'Four short links' in (i['title']):\n",
    "        four_count += 1\n",
    "    else:\n",
    "        pass\n",
    "    \n",
    "print() \n",
    "\n",
    "print(\"The 'Four short links' entries account for\", (four_count / len(f['entries']) * 100),'% of the entries.')"
   ]
  },
  {
   "cell_type": "markdown",
   "metadata": {},
   "source": [
    "### 9. Create a Pandas data frame from the feed's entries."
   ]
  },
  {
   "cell_type": "code",
   "execution_count": 87,
   "metadata": {},
   "outputs": [],
   "source": [
    "import pandas as pd"
   ]
  },
  {
   "cell_type": "code",
   "execution_count": 90,
   "metadata": {},
   "outputs": [
    {
     "data": {
      "text/html": [
       "<div>\n",
       "<style scoped>\n",
       "    .dataframe tbody tr th:only-of-type {\n",
       "        vertical-align: middle;\n",
       "    }\n",
       "\n",
       "    .dataframe tbody tr th {\n",
       "        vertical-align: top;\n",
       "    }\n",
       "\n",
       "    .dataframe thead th {\n",
       "        text-align: right;\n",
       "    }\n",
       "</style>\n",
       "<table border=\"1\" class=\"dataframe\">\n",
       "  <thead>\n",
       "    <tr style=\"text-align: right;\">\n",
       "      <th></th>\n",
       "      <th>title</th>\n",
       "      <th>title_detail</th>\n",
       "      <th>links</th>\n",
       "      <th>link</th>\n",
       "      <th>comments</th>\n",
       "      <th>published</th>\n",
       "      <th>published_parsed</th>\n",
       "      <th>authors</th>\n",
       "      <th>author</th>\n",
       "      <th>author_detail</th>\n",
       "      <th>tags</th>\n",
       "      <th>id</th>\n",
       "      <th>guidislink</th>\n",
       "      <th>summary</th>\n",
       "      <th>summary_detail</th>\n",
       "      <th>content</th>\n",
       "      <th>wfw_commentrss</th>\n",
       "      <th>slash_comments</th>\n",
       "      <th>feedburner_origlink</th>\n",
       "    </tr>\n",
       "  </thead>\n",
       "  <tbody>\n",
       "    <tr>\n",
       "      <th>0</th>\n",
       "      <td>The End of Silicon Valley as We Know It?</td>\n",
       "      <td>{'type': 'text/plain', 'language': None, 'base...</td>\n",
       "      <td>[{'rel': 'alternate', 'type': 'text/html', 'hr...</td>\n",
       "      <td>http://feedproxy.google.com/~r/oreilly/radar/a...</td>\n",
       "      <td>https://www.oreilly.com/radar/the-end-of-silic...</td>\n",
       "      <td>Thu, 11 Mar 2021 17:22:01 +0000</td>\n",
       "      <td>(2021, 3, 11, 17, 22, 1, 3, 70, 0)</td>\n",
       "      <td>[{'name': 'Tim O’Reilly'}]</td>\n",
       "      <td>Tim O’Reilly</td>\n",
       "      <td>{'name': 'Tim O’Reilly'}</td>\n",
       "      <td>[{'term': 'Radar Column', 'scheme': None, 'lab...</td>\n",
       "      <td>https://www.oreilly.com/radar/?p=13665</td>\n",
       "      <td>False</td>\n",
       "      <td>High-profile entrepreneurs like Elon Musk, ven...</td>\n",
       "      <td>{'type': 'text/html', 'language': None, 'base'...</td>\n",
       "      <td>[{'type': 'text/html', 'language': None, 'base...</td>\n",
       "      <td>https://www.oreilly.com/radar/the-end-of-silic...</td>\n",
       "      <td>0</td>\n",
       "      <td>https://www.oreilly.com/radar/the-end-of-silic...</td>\n",
       "    </tr>\n",
       "    <tr>\n",
       "      <th>1</th>\n",
       "      <td>The Next Generation of AI</td>\n",
       "      <td>{'type': 'text/plain', 'language': None, 'base...</td>\n",
       "      <td>[{'rel': 'alternate', 'type': 'text/html', 'hr...</td>\n",
       "      <td>http://feedproxy.google.com/~r/oreilly/radar/a...</td>\n",
       "      <td>https://www.oreilly.com/radar/the-next-generat...</td>\n",
       "      <td>Tue, 09 Mar 2021 13:46:41 +0000</td>\n",
       "      <td>(2021, 3, 9, 13, 46, 41, 1, 68, 0)</td>\n",
       "      <td>[{'name': 'Mike Loukides'}]</td>\n",
       "      <td>Mike Loukides</td>\n",
       "      <td>{'name': 'Mike Loukides'}</td>\n",
       "      <td>[{'term': 'AI &amp; ML', 'scheme': None, 'label': ...</td>\n",
       "      <td>https://www.oreilly.com/radar/?p=13676</td>\n",
       "      <td>False</td>\n",
       "      <td>Programs like AlphaZero and GPT-3 are massive ...</td>\n",
       "      <td>{'type': 'text/html', 'language': None, 'base'...</td>\n",
       "      <td>[{'type': 'text/html', 'language': None, 'base...</td>\n",
       "      <td>https://www.oreilly.com/radar/the-next-generat...</td>\n",
       "      <td>0</td>\n",
       "      <td>https://www.oreilly.com/radar/the-next-generat...</td>\n",
       "    </tr>\n",
       "    <tr>\n",
       "      <th>2</th>\n",
       "      <td>Radar trends to watch: March 2021</td>\n",
       "      <td>{'type': 'text/plain', 'language': None, 'base...</td>\n",
       "      <td>[{'rel': 'alternate', 'type': 'text/html', 'hr...</td>\n",
       "      <td>http://feedproxy.google.com/~r/oreilly/radar/a...</td>\n",
       "      <td>https://www.oreilly.com/radar/radar-trends-to-...</td>\n",
       "      <td>Mon, 01 Mar 2021 14:13:29 +0000</td>\n",
       "      <td>(2021, 3, 1, 14, 13, 29, 0, 60, 0)</td>\n",
       "      <td>[{'name': 'Mike Loukides'}]</td>\n",
       "      <td>Mike Loukides</td>\n",
       "      <td>{'name': 'Mike Loukides'}</td>\n",
       "      <td>[{'term': 'Radar Trends', 'scheme': None, 'lab...</td>\n",
       "      <td>https://www.oreilly.com/radar/?p=13672</td>\n",
       "      <td>False</td>\n",
       "      <td>For a short month, a lot happened in February–...</td>\n",
       "      <td>{'type': 'text/html', 'language': None, 'base'...</td>\n",
       "      <td>[{'type': 'text/html', 'language': None, 'base...</td>\n",
       "      <td>https://www.oreilly.com/radar/radar-trends-to-...</td>\n",
       "      <td>0</td>\n",
       "      <td>https://www.oreilly.com/radar/radar-trends-to-...</td>\n",
       "    </tr>\n",
       "    <tr>\n",
       "      <th>3</th>\n",
       "      <td>Product Management for AI</td>\n",
       "      <td>{'type': 'text/plain', 'language': None, 'base...</td>\n",
       "      <td>[{'rel': 'alternate', 'type': 'text/html', 'hr...</td>\n",
       "      <td>http://feedproxy.google.com/~r/oreilly/radar/a...</td>\n",
       "      <td>https://www.oreilly.com/radar/product-manageme...</td>\n",
       "      <td>Fri, 26 Feb 2021 19:40:39 +0000</td>\n",
       "      <td>(2021, 2, 26, 19, 40, 39, 4, 57, 0)</td>\n",
       "      <td>[{'name': 'Mike Loukides'}]</td>\n",
       "      <td>Mike Loukides</td>\n",
       "      <td>{'name': 'Mike Loukides'}</td>\n",
       "      <td>[{'term': 'AI &amp; ML', 'scheme': None, 'label': ...</td>\n",
       "      <td>https://www.oreilly.com/radar/?p=13646</td>\n",
       "      <td>False</td>\n",
       "      <td>A couple of years ago, Pete Skomoroch, Roger M...</td>\n",
       "      <td>{'type': 'text/html', 'language': None, 'base'...</td>\n",
       "      <td>[{'type': 'text/html', 'language': None, 'base...</td>\n",
       "      <td>https://www.oreilly.com/radar/product-manageme...</td>\n",
       "      <td>0</td>\n",
       "      <td>https://www.oreilly.com/radar/product-manageme...</td>\n",
       "    </tr>\n",
       "    <tr>\n",
       "      <th>4</th>\n",
       "      <td>5 things on our data and AI radar for 2021</td>\n",
       "      <td>{'type': 'text/plain', 'language': None, 'base...</td>\n",
       "      <td>[{'rel': 'alternate', 'type': 'text/html', 'hr...</td>\n",
       "      <td>http://feedproxy.google.com/~r/oreilly/radar/a...</td>\n",
       "      <td>https://www.oreilly.com/radar/5-things-on-our-...</td>\n",
       "      <td>Fri, 19 Feb 2021 15:23:14 +0000</td>\n",
       "      <td>(2021, 2, 19, 15, 23, 14, 4, 50, 0)</td>\n",
       "      <td>[{}]</td>\n",
       "      <td></td>\n",
       "      <td>NaN</td>\n",
       "      <td>[{'term': 'AI &amp; ML', 'scheme': None, 'label': ...</td>\n",
       "      <td>https://www.oreilly.com/radar/?p=13660</td>\n",
       "      <td>False</td>\n",
       "      <td>Here are some of the most significant themes w...</td>\n",
       "      <td>{'type': 'text/html', 'language': None, 'base'...</td>\n",
       "      <td>[{'type': 'text/html', 'language': None, 'base...</td>\n",
       "      <td>https://www.oreilly.com/radar/5-things-on-our-...</td>\n",
       "      <td>0</td>\n",
       "      <td>https://www.oreilly.com/radar/5-things-on-our-...</td>\n",
       "    </tr>\n",
       "  </tbody>\n",
       "</table>\n",
       "</div>"
      ],
      "text/plain": [
       "                                        title  \\\n",
       "0    The End of Silicon Valley as We Know It?   \n",
       "1                   The Next Generation of AI   \n",
       "2           Radar trends to watch: March 2021   \n",
       "3                   Product Management for AI   \n",
       "4  5 things on our data and AI radar for 2021   \n",
       "\n",
       "                                        title_detail  \\\n",
       "0  {'type': 'text/plain', 'language': None, 'base...   \n",
       "1  {'type': 'text/plain', 'language': None, 'base...   \n",
       "2  {'type': 'text/plain', 'language': None, 'base...   \n",
       "3  {'type': 'text/plain', 'language': None, 'base...   \n",
       "4  {'type': 'text/plain', 'language': None, 'base...   \n",
       "\n",
       "                                               links  \\\n",
       "0  [{'rel': 'alternate', 'type': 'text/html', 'hr...   \n",
       "1  [{'rel': 'alternate', 'type': 'text/html', 'hr...   \n",
       "2  [{'rel': 'alternate', 'type': 'text/html', 'hr...   \n",
       "3  [{'rel': 'alternate', 'type': 'text/html', 'hr...   \n",
       "4  [{'rel': 'alternate', 'type': 'text/html', 'hr...   \n",
       "\n",
       "                                                link  \\\n",
       "0  http://feedproxy.google.com/~r/oreilly/radar/a...   \n",
       "1  http://feedproxy.google.com/~r/oreilly/radar/a...   \n",
       "2  http://feedproxy.google.com/~r/oreilly/radar/a...   \n",
       "3  http://feedproxy.google.com/~r/oreilly/radar/a...   \n",
       "4  http://feedproxy.google.com/~r/oreilly/radar/a...   \n",
       "\n",
       "                                            comments  \\\n",
       "0  https://www.oreilly.com/radar/the-end-of-silic...   \n",
       "1  https://www.oreilly.com/radar/the-next-generat...   \n",
       "2  https://www.oreilly.com/radar/radar-trends-to-...   \n",
       "3  https://www.oreilly.com/radar/product-manageme...   \n",
       "4  https://www.oreilly.com/radar/5-things-on-our-...   \n",
       "\n",
       "                         published                     published_parsed  \\\n",
       "0  Thu, 11 Mar 2021 17:22:01 +0000   (2021, 3, 11, 17, 22, 1, 3, 70, 0)   \n",
       "1  Tue, 09 Mar 2021 13:46:41 +0000   (2021, 3, 9, 13, 46, 41, 1, 68, 0)   \n",
       "2  Mon, 01 Mar 2021 14:13:29 +0000   (2021, 3, 1, 14, 13, 29, 0, 60, 0)   \n",
       "3  Fri, 26 Feb 2021 19:40:39 +0000  (2021, 2, 26, 19, 40, 39, 4, 57, 0)   \n",
       "4  Fri, 19 Feb 2021 15:23:14 +0000  (2021, 2, 19, 15, 23, 14, 4, 50, 0)   \n",
       "\n",
       "                       authors         author              author_detail  \\\n",
       "0   [{'name': 'Tim O’Reilly'}]   Tim O’Reilly   {'name': 'Tim O’Reilly'}   \n",
       "1  [{'name': 'Mike Loukides'}]  Mike Loukides  {'name': 'Mike Loukides'}   \n",
       "2  [{'name': 'Mike Loukides'}]  Mike Loukides  {'name': 'Mike Loukides'}   \n",
       "3  [{'name': 'Mike Loukides'}]  Mike Loukides  {'name': 'Mike Loukides'}   \n",
       "4                         [{}]                                       NaN   \n",
       "\n",
       "                                                tags  \\\n",
       "0  [{'term': 'Radar Column', 'scheme': None, 'lab...   \n",
       "1  [{'term': 'AI & ML', 'scheme': None, 'label': ...   \n",
       "2  [{'term': 'Radar Trends', 'scheme': None, 'lab...   \n",
       "3  [{'term': 'AI & ML', 'scheme': None, 'label': ...   \n",
       "4  [{'term': 'AI & ML', 'scheme': None, 'label': ...   \n",
       "\n",
       "                                       id  guidislink  \\\n",
       "0  https://www.oreilly.com/radar/?p=13665       False   \n",
       "1  https://www.oreilly.com/radar/?p=13676       False   \n",
       "2  https://www.oreilly.com/radar/?p=13672       False   \n",
       "3  https://www.oreilly.com/radar/?p=13646       False   \n",
       "4  https://www.oreilly.com/radar/?p=13660       False   \n",
       "\n",
       "                                             summary  \\\n",
       "0  High-profile entrepreneurs like Elon Musk, ven...   \n",
       "1  Programs like AlphaZero and GPT-3 are massive ...   \n",
       "2  For a short month, a lot happened in February–...   \n",
       "3  A couple of years ago, Pete Skomoroch, Roger M...   \n",
       "4  Here are some of the most significant themes w...   \n",
       "\n",
       "                                      summary_detail  \\\n",
       "0  {'type': 'text/html', 'language': None, 'base'...   \n",
       "1  {'type': 'text/html', 'language': None, 'base'...   \n",
       "2  {'type': 'text/html', 'language': None, 'base'...   \n",
       "3  {'type': 'text/html', 'language': None, 'base'...   \n",
       "4  {'type': 'text/html', 'language': None, 'base'...   \n",
       "\n",
       "                                             content  \\\n",
       "0  [{'type': 'text/html', 'language': None, 'base...   \n",
       "1  [{'type': 'text/html', 'language': None, 'base...   \n",
       "2  [{'type': 'text/html', 'language': None, 'base...   \n",
       "3  [{'type': 'text/html', 'language': None, 'base...   \n",
       "4  [{'type': 'text/html', 'language': None, 'base...   \n",
       "\n",
       "                                      wfw_commentrss slash_comments  \\\n",
       "0  https://www.oreilly.com/radar/the-end-of-silic...              0   \n",
       "1  https://www.oreilly.com/radar/the-next-generat...              0   \n",
       "2  https://www.oreilly.com/radar/radar-trends-to-...              0   \n",
       "3  https://www.oreilly.com/radar/product-manageme...              0   \n",
       "4  https://www.oreilly.com/radar/5-things-on-our-...              0   \n",
       "\n",
       "                                 feedburner_origlink  \n",
       "0  https://www.oreilly.com/radar/the-end-of-silic...  \n",
       "1  https://www.oreilly.com/radar/the-next-generat...  \n",
       "2  https://www.oreilly.com/radar/radar-trends-to-...  \n",
       "3  https://www.oreilly.com/radar/product-manageme...  \n",
       "4  https://www.oreilly.com/radar/5-things-on-our-...  "
      ]
     },
     "execution_count": 90,
     "metadata": {},
     "output_type": "execute_result"
    }
   ],
   "source": [
    "feed_dict = pd.DataFrame.from_dict(f['entries'], orient='columns', dtype=None)\n",
    "\n",
    "feed_dict.head()"
   ]
  },
  {
   "cell_type": "markdown",
   "metadata": {},
   "source": [
    "### 10. Count the number of entries per author and sort them in descending order."
   ]
  },
  {
   "cell_type": "code",
   "execution_count": 92,
   "metadata": {},
   "outputs": [
    {
     "data": {
      "text/plain": [
       "author\n",
       "Nat Torkington                                    32\n",
       "Mike Loukides                                     16\n",
       "                                                   4\n",
       "Tim O’Reilly                                       1\n",
       "Q Ethan McCallum, Chris Butler and Shane Glynn     1\n",
       "Q Ethan McCallum and Mike Loukides                 1\n",
       "Patrick Hall and Ayoub Ouederni                    1\n",
       "Matthew Rocklin and Hugo Bowne-Anderson            1\n",
       "Kevlin Henney                                      1\n",
       "Justin Norman and Mike Loukides                    1\n",
       "Alex Castrounis                                    1\n",
       "dtype: int64"
      ]
     },
     "execution_count": 92,
     "metadata": {},
     "output_type": "execute_result"
    }
   ],
   "source": [
    "feed_dict.value_counts('author')"
   ]
  },
  {
   "cell_type": "markdown",
   "metadata": {},
   "source": [
    "### 11. Add a new column to the data frame that contains the length (number of characters) of each entry title. Return a data frame that contains the title, author, and title length of each entry in descending order (longest title length at the top)."
   ]
  },
  {
   "cell_type": "code",
   "execution_count": 104,
   "metadata": {},
   "outputs": [
    {
     "data": {
      "text/html": [
       "<div>\n",
       "<style scoped>\n",
       "    .dataframe tbody tr th:only-of-type {\n",
       "        vertical-align: middle;\n",
       "    }\n",
       "\n",
       "    .dataframe tbody tr th {\n",
       "        vertical-align: top;\n",
       "    }\n",
       "\n",
       "    .dataframe thead th {\n",
       "        text-align: right;\n",
       "    }\n",
       "</style>\n",
       "<table border=\"1\" class=\"dataframe\">\n",
       "  <thead>\n",
       "    <tr style=\"text-align: right;\">\n",
       "      <th></th>\n",
       "      <th>title</th>\n",
       "      <th>author</th>\n",
       "      <th>title_chars</th>\n",
       "    </tr>\n",
       "  </thead>\n",
       "  <tbody>\n",
       "    <tr>\n",
       "      <th>58</th>\n",
       "      <td>Why Best-of-Breed is a Better Choice than All-...</td>\n",
       "      <td>Matthew Rocklin and Hugo Bowne-Anderson</td>\n",
       "      <td>79</td>\n",
       "    </tr>\n",
       "    <tr>\n",
       "      <th>8</th>\n",
       "      <td>Where Programming, Ops, AI, and the Cloud are ...</td>\n",
       "      <td>Mike Loukides</td>\n",
       "      <td>60</td>\n",
       "    </tr>\n",
       "    <tr>\n",
       "      <th>5</th>\n",
       "      <td>5 infrastructure and operations trends to watc...</td>\n",
       "      <td></td>\n",
       "      <td>55</td>\n",
       "    </tr>\n",
       "    <tr>\n",
       "      <th>14</th>\n",
       "      <td>O’Reilly’s top 20 live online training courses...</td>\n",
       "      <td></td>\n",
       "      <td>54</td>\n",
       "    </tr>\n",
       "    <tr>\n",
       "      <th>4</th>\n",
       "      <td>5 things on our data and AI radar for 2021</td>\n",
       "      <td></td>\n",
       "      <td>42</td>\n",
       "    </tr>\n",
       "  </tbody>\n",
       "</table>\n",
       "</div>"
      ],
      "text/plain": [
       "                                                title  \\\n",
       "58  Why Best-of-Breed is a Better Choice than All-...   \n",
       "8   Where Programming, Ops, AI, and the Cloud are ...   \n",
       "5   5 infrastructure and operations trends to watc...   \n",
       "14  O’Reilly’s top 20 live online training courses...   \n",
       "4          5 things on our data and AI radar for 2021   \n",
       "\n",
       "                                     author  title_chars  \n",
       "58  Matthew Rocklin and Hugo Bowne-Anderson           79  \n",
       "8                             Mike Loukides           60  \n",
       "5                                                     55  \n",
       "14                                                    54  \n",
       "4                                                     42  "
      ]
     },
     "execution_count": 104,
     "metadata": {},
     "output_type": "execute_result"
    }
   ],
   "source": [
    "feed_dict['title_chars'] = feed_dict['title'].str.len()\n",
    "\n",
    "new_df = feed_dict[['title', 'author', 'title_chars']].sort_values('title_chars', ascending=False)\n",
    "\n",
    "new_df.head()"
   ]
  },
  {
   "cell_type": "markdown",
   "metadata": {},
   "source": [
    "### 12. Create a list of entry titles whose summary includes the phrase \"machine learning.\""
   ]
  },
  {
   "cell_type": "code",
   "execution_count": 105,
   "metadata": {},
   "outputs": [
    {
     "name": "stdout",
     "output_type": "stream",
     "text": [
      "['Seven Legal Questions for Data Scientists']\n"
     ]
    }
   ],
   "source": [
    "machine_list = []\n",
    "\n",
    "for i in f['entries']:\n",
    "    if 'machine learning' in (i['summary']):\n",
    "        machine_list.append(i['title'])\n",
    "    else:\n",
    "        pass\n",
    "    \n",
    "print(machine_list)"
   ]
  }
 ],
 "metadata": {
  "kernelspec": {
   "display_name": "Python 3",
   "language": "python",
   "name": "python3"
  },
  "language_info": {
   "codemirror_mode": {
    "name": "ipython",
    "version": 3
   },
   "file_extension": ".py",
   "mimetype": "text/x-python",
   "name": "python",
   "nbconvert_exporter": "python",
   "pygments_lexer": "ipython3",
   "version": "3.8.5"
  }
 },
 "nbformat": 4,
 "nbformat_minor": 2
}
